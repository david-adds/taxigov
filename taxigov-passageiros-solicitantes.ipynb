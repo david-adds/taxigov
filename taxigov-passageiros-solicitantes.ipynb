{
 "cells": [
  {
   "cell_type": "markdown",
   "id": "0dc32198",
   "metadata": {},
   "source": [
    "link:  https://dados.gov.br/dataset/corridas-do-taxigov#\n",
    "\n",
    "Nono digito significado: https://www.gov.br/receitafederal/pt-br/assuntos/educacao-fiscal/educacao_fiscal/folhetos-orientativos/cadastros-dig.pdf"
   ]
  },
  {
   "cell_type": "markdown",
   "id": "be10fe09",
   "metadata": {},
   "source": [
    "__Bibliotecas necessárias__"
   ]
  },
  {
   "cell_type": "code",
   "execution_count": 1,
   "id": "c5fb3240",
   "metadata": {},
   "outputs": [],
   "source": [
    "import pandas as pd\n",
    "import numpy as np\n",
    "import matplotlib.pyplot as plt\n",
    "import seaborn as sns"
   ]
  },
  {
   "cell_type": "markdown",
   "id": "e266f800",
   "metadata": {},
   "source": [
    "__Carrega os dados__"
   ]
  },
  {
   "cell_type": "code",
   "execution_count": 2,
   "id": "df6979d7",
   "metadata": {},
   "outputs": [],
   "source": [
    "df = pd.read_csv(\"http://repositorio.dados.gov.br/seges/taxigov/taxigov-passageiros-solicitantes-mes.zip\",\n",
    "                 compression='zip')"
   ]
  },
  {
   "cell_type": "code",
   "execution_count": 3,
   "id": "fec49411",
   "metadata": {},
   "outputs": [
    {
     "name": "stdout",
     "output_type": "stream",
     "text": [
      "<class 'pandas.core.frame.DataFrame'>\n",
      "RangeIndex: 54230 entries, 0 to 54229\n",
      "Data columns (total 7 columns):\n",
      " #   Column               Non-Null Count  Dtype  \n",
      "---  ------               --------------  -----  \n",
      " 0   nome_passageiro      54230 non-null  object \n",
      " 1   nome_solicitante     54230 non-null  object \n",
      " 2   cpf_solicitante      54230 non-null  object \n",
      " 3   ano_mes              54230 non-null  int64  \n",
      " 4   km_total             54228 non-null  float64\n",
      " 5   valor_corridas       54230 non-null  float64\n",
      " 6   quantidade_corridas  54230 non-null  int64  \n",
      "dtypes: float64(2), int64(2), object(3)\n",
      "memory usage: 2.9+ MB\n"
     ]
    }
   ],
   "source": [
    "df.info()"
   ]
  },
  {
   "cell_type": "code",
   "execution_count": 4,
   "id": "3ebb4f14",
   "metadata": {},
   "outputs": [
    {
     "data": {
      "text/html": [
       "<div>\n",
       "<style scoped>\n",
       "    .dataframe tbody tr th:only-of-type {\n",
       "        vertical-align: middle;\n",
       "    }\n",
       "\n",
       "    .dataframe tbody tr th {\n",
       "        vertical-align: top;\n",
       "    }\n",
       "\n",
       "    .dataframe thead th {\n",
       "        text-align: right;\n",
       "    }\n",
       "</style>\n",
       "<table border=\"1\" class=\"dataframe\">\n",
       "  <thead>\n",
       "    <tr style=\"text-align: right;\">\n",
       "      <th></th>\n",
       "      <th>count</th>\n",
       "      <th>mean</th>\n",
       "      <th>std</th>\n",
       "      <th>min</th>\n",
       "      <th>25%</th>\n",
       "      <th>50%</th>\n",
       "      <th>75%</th>\n",
       "      <th>max</th>\n",
       "    </tr>\n",
       "  </thead>\n",
       "  <tbody>\n",
       "    <tr>\n",
       "      <th>ano_mes</th>\n",
       "      <td>54230.0</td>\n",
       "      <td>202011.477245</td>\n",
       "      <td>75.489310</td>\n",
       "      <td>201909.0</td>\n",
       "      <td>201912.00</td>\n",
       "      <td>202004.00</td>\n",
       "      <td>202103.00</td>\n",
       "      <td>202112.00</td>\n",
       "    </tr>\n",
       "    <tr>\n",
       "      <th>km_total</th>\n",
       "      <td>54228.0</td>\n",
       "      <td>40.948246</td>\n",
       "      <td>84.468064</td>\n",
       "      <td>0.0</td>\n",
       "      <td>6.60</td>\n",
       "      <td>16.00</td>\n",
       "      <td>39.70</td>\n",
       "      <td>2234.20</td>\n",
       "    </tr>\n",
       "    <tr>\n",
       "      <th>valor_corridas</th>\n",
       "      <td>54230.0</td>\n",
       "      <td>123.313496</td>\n",
       "      <td>249.327050</td>\n",
       "      <td>0.0</td>\n",
       "      <td>20.88</td>\n",
       "      <td>49.01</td>\n",
       "      <td>120.06</td>\n",
       "      <td>6532.37</td>\n",
       "    </tr>\n",
       "    <tr>\n",
       "      <th>quantidade_corridas</th>\n",
       "      <td>54230.0</td>\n",
       "      <td>4.970791</td>\n",
       "      <td>6.971072</td>\n",
       "      <td>1.0</td>\n",
       "      <td>2.00</td>\n",
       "      <td>3.00</td>\n",
       "      <td>6.00</td>\n",
       "      <td>199.00</td>\n",
       "    </tr>\n",
       "  </tbody>\n",
       "</table>\n",
       "</div>"
      ],
      "text/plain": [
       "                       count           mean         std       min        25%  \\\n",
       "ano_mes              54230.0  202011.477245   75.489310  201909.0  201912.00   \n",
       "km_total             54228.0      40.948246   84.468064       0.0       6.60   \n",
       "valor_corridas       54230.0     123.313496  249.327050       0.0      20.88   \n",
       "quantidade_corridas  54230.0       4.970791    6.971072       1.0       2.00   \n",
       "\n",
       "                           50%        75%        max  \n",
       "ano_mes              202004.00  202103.00  202112.00  \n",
       "km_total                 16.00      39.70    2234.20  \n",
       "valor_corridas           49.01     120.06    6532.37  \n",
       "quantidade_corridas       3.00       6.00     199.00  "
      ]
     },
     "execution_count": 4,
     "metadata": {},
     "output_type": "execute_result"
    }
   ],
   "source": [
    "df.describe().transpose()"
   ]
  },
  {
   "cell_type": "markdown",
   "id": "f7aaf262",
   "metadata": {},
   "source": [
    "__Checa se há algum valor nulo no dataframe__"
   ]
  },
  {
   "cell_type": "code",
   "execution_count": 5,
   "id": "50802498",
   "metadata": {
    "scrolled": false
   },
   "outputs": [
    {
     "data": {
      "text/plain": [
       "nome_passageiro        0\n",
       "nome_solicitante       0\n",
       "cpf_solicitante        0\n",
       "ano_mes                0\n",
       "km_total               2\n",
       "valor_corridas         0\n",
       "quantidade_corridas    0\n",
       "dtype: int64"
      ]
     },
     "execution_count": 5,
     "metadata": {},
     "output_type": "execute_result"
    }
   ],
   "source": [
    "df.isna().sum()"
   ]
  },
  {
   "cell_type": "code",
   "execution_count": 6,
   "id": "e8956c65",
   "metadata": {
    "scrolled": true
   },
   "outputs": [
    {
     "data": {
      "text/html": [
       "<div>\n",
       "<style scoped>\n",
       "    .dataframe tbody tr th:only-of-type {\n",
       "        vertical-align: middle;\n",
       "    }\n",
       "\n",
       "    .dataframe tbody tr th {\n",
       "        vertical-align: top;\n",
       "    }\n",
       "\n",
       "    .dataframe thead th {\n",
       "        text-align: right;\n",
       "    }\n",
       "</style>\n",
       "<table border=\"1\" class=\"dataframe\">\n",
       "  <thead>\n",
       "    <tr style=\"text-align: right;\">\n",
       "      <th></th>\n",
       "      <th>nome_passageiro</th>\n",
       "      <th>nome_solicitante</th>\n",
       "      <th>cpf_solicitante</th>\n",
       "      <th>ano_mes</th>\n",
       "      <th>km_total</th>\n",
       "      <th>valor_corridas</th>\n",
       "      <th>quantidade_corridas</th>\n",
       "    </tr>\n",
       "  </thead>\n",
       "  <tbody>\n",
       "    <tr>\n",
       "      <th>8413</th>\n",
       "      <td>CARLOS HUGO SUAREZ SAMPAIO</td>\n",
       "      <td>CARLOS HUGO SUAREZ SAMPAIO</td>\n",
       "      <td>***.826.709-**</td>\n",
       "      <td>201912</td>\n",
       "      <td>NaN</td>\n",
       "      <td>7.54</td>\n",
       "      <td>1</td>\n",
       "    </tr>\n",
       "    <tr>\n",
       "      <th>50409</th>\n",
       "      <td>THAISE MORAES TORRES</td>\n",
       "      <td>THAISE MORAES TORRES</td>\n",
       "      <td>***.462.271-**</td>\n",
       "      <td>201912</td>\n",
       "      <td>NaN</td>\n",
       "      <td>5.80</td>\n",
       "      <td>1</td>\n",
       "    </tr>\n",
       "  </tbody>\n",
       "</table>\n",
       "</div>"
      ],
      "text/plain": [
       "                  nome_passageiro            nome_solicitante cpf_solicitante  \\\n",
       "8413   CARLOS HUGO SUAREZ SAMPAIO  CARLOS HUGO SUAREZ SAMPAIO  ***.826.709-**   \n",
       "50409        THAISE MORAES TORRES        THAISE MORAES TORRES  ***.462.271-**   \n",
       "\n",
       "       ano_mes  km_total  valor_corridas  quantidade_corridas  \n",
       "8413    201912       NaN            7.54                    1  \n",
       "50409   201912       NaN            5.80                    1  "
      ]
     },
     "execution_count": 6,
     "metadata": {},
     "output_type": "execute_result"
    }
   ],
   "source": [
    "df[df['km_total'].isna()]"
   ]
  },
  {
   "cell_type": "markdown",
   "id": "e0286a35",
   "metadata": {},
   "source": [
    "Cria clounas **mes** e **ano** a partir da coluna **mes_ano**"
   ]
  },
  {
   "cell_type": "code",
   "execution_count": 7,
   "id": "9f150e77",
   "metadata": {},
   "outputs": [],
   "source": [
    "df['ano'] = df['ano_mes'].apply(lambda x: int(str(x)[:-2]))\n",
    "df['mes'] = df['ano_mes'].apply(lambda x: int(str(x)[-2:]))"
   ]
  },
  {
   "cell_type": "code",
   "execution_count": 8,
   "id": "89990987",
   "metadata": {},
   "outputs": [],
   "source": [
    "df.drop('ano_mes',axis=1,inplace=True)"
   ]
  },
  {
   "cell_type": "markdown",
   "id": "f77a0542",
   "metadata": {},
   "source": [
    "__Checa os registros no quais o nome do solicitante é diferente do nome do passageiro__\n"
   ]
  },
  {
   "cell_type": "code",
   "execution_count": 9,
   "id": "6965caba",
   "metadata": {},
   "outputs": [
    {
     "data": {
      "text/html": [
       "<div>\n",
       "<style scoped>\n",
       "    .dataframe tbody tr th:only-of-type {\n",
       "        vertical-align: middle;\n",
       "    }\n",
       "\n",
       "    .dataframe tbody tr th {\n",
       "        vertical-align: top;\n",
       "    }\n",
       "\n",
       "    .dataframe thead th {\n",
       "        text-align: right;\n",
       "    }\n",
       "</style>\n",
       "<table border=\"1\" class=\"dataframe\">\n",
       "  <thead>\n",
       "    <tr style=\"text-align: right;\">\n",
       "      <th></th>\n",
       "      <th>nome_passageiro</th>\n",
       "      <th>nome_solicitante</th>\n",
       "      <th>cpf_solicitante</th>\n",
       "      <th>km_total</th>\n",
       "      <th>valor_corridas</th>\n",
       "      <th>quantidade_corridas</th>\n",
       "      <th>ano</th>\n",
       "      <th>mes</th>\n",
       "    </tr>\n",
       "  </thead>\n",
       "  <tbody>\n",
       "    <tr>\n",
       "      <th>0</th>\n",
       "      <td>DOUGLAS BORGES DE SOUSA</td>\n",
       "      <td>DOUGLAS BORGES DE SOUSA</td>\n",
       "      <td>***.425.428-**</td>\n",
       "      <td>20.20</td>\n",
       "      <td>59.99</td>\n",
       "      <td>1</td>\n",
       "      <td>2020</td>\n",
       "      <td>10</td>\n",
       "    </tr>\n",
       "    <tr>\n",
       "      <th>5</th>\n",
       "      <td>Elizete Meireles da Costa</td>\n",
       "      <td>ELIZETE MEIRELES DA COSTA</td>\n",
       "      <td>***.378.031-**</td>\n",
       "      <td>13.50</td>\n",
       "      <td>39.15</td>\n",
       "      <td>1</td>\n",
       "      <td>2020</td>\n",
       "      <td>4</td>\n",
       "    </tr>\n",
       "    <tr>\n",
       "      <th>6</th>\n",
       "      <td>Elizete Meireles da Costa</td>\n",
       "      <td>ELIZETE MEIRELES DA COSTA</td>\n",
       "      <td>***.378.031-**</td>\n",
       "      <td>1.40</td>\n",
       "      <td>5.94</td>\n",
       "      <td>1</td>\n",
       "      <td>2020</td>\n",
       "      <td>5</td>\n",
       "    </tr>\n",
       "    <tr>\n",
       "      <th>7</th>\n",
       "      <td>Elizete Meireles da Costa</td>\n",
       "      <td>ELIZETE MEIRELES DA COSTA</td>\n",
       "      <td>***.378.031-**</td>\n",
       "      <td>3.50</td>\n",
       "      <td>10.40</td>\n",
       "      <td>1</td>\n",
       "      <td>2020</td>\n",
       "      <td>9</td>\n",
       "    </tr>\n",
       "    <tr>\n",
       "      <th>8</th>\n",
       "      <td>Elizete Meireles da Costa</td>\n",
       "      <td>ELIZETE MEIRELES DA COSTA</td>\n",
       "      <td>***.378.031-**</td>\n",
       "      <td>6.40</td>\n",
       "      <td>29.70</td>\n",
       "      <td>5</td>\n",
       "      <td>2020</td>\n",
       "      <td>12</td>\n",
       "    </tr>\n",
       "    <tr>\n",
       "      <th>...</th>\n",
       "      <td>...</td>\n",
       "      <td>...</td>\n",
       "      <td>...</td>\n",
       "      <td>...</td>\n",
       "      <td>...</td>\n",
       "      <td>...</td>\n",
       "      <td>...</td>\n",
       "      <td>...</td>\n",
       "    </tr>\n",
       "    <tr>\n",
       "      <th>53825</th>\n",
       "      <td>WILLIAN ALMEIDA CAVALCANTI</td>\n",
       "      <td>DHENNER MITCHEL LOPES DE SOUZA</td>\n",
       "      <td>***.989.206-**</td>\n",
       "      <td>23.20</td>\n",
       "      <td>68.91</td>\n",
       "      <td>2</td>\n",
       "      <td>2020</td>\n",
       "      <td>7</td>\n",
       "    </tr>\n",
       "    <tr>\n",
       "      <th>53999</th>\n",
       "      <td>WILSON PEREIRA RODRIGUES FILHO</td>\n",
       "      <td>FRANCISCO FELIPE SANTIAGO</td>\n",
       "      <td>***.800.081-**</td>\n",
       "      <td>28.10</td>\n",
       "      <td>83.46</td>\n",
       "      <td>1</td>\n",
       "      <td>2020</td>\n",
       "      <td>7</td>\n",
       "    </tr>\n",
       "    <tr>\n",
       "      <th>54132</th>\n",
       "      <td>Yasmin Marques Barros</td>\n",
       "      <td>YASMIN MARQUES BARROS</td>\n",
       "      <td>***.785.181-**</td>\n",
       "      <td>40.30</td>\n",
       "      <td>119.69</td>\n",
       "      <td>4</td>\n",
       "      <td>2021</td>\n",
       "      <td>3</td>\n",
       "    </tr>\n",
       "    <tr>\n",
       "      <th>54135</th>\n",
       "      <td>Yasmin Marques Barros</td>\n",
       "      <td>YASMIN MARQUES BARROS</td>\n",
       "      <td>***.785.181-**</td>\n",
       "      <td>40.48</td>\n",
       "      <td>127.92</td>\n",
       "      <td>4</td>\n",
       "      <td>2021</td>\n",
       "      <td>7</td>\n",
       "    </tr>\n",
       "    <tr>\n",
       "      <th>54166</th>\n",
       "      <td>Yuri Gabriel Silva Santos</td>\n",
       "      <td>YURI GABRIEL SILVA SANTOS</td>\n",
       "      <td>***.168.181-**</td>\n",
       "      <td>8.40</td>\n",
       "      <td>31.52</td>\n",
       "      <td>4</td>\n",
       "      <td>2021</td>\n",
       "      <td>10</td>\n",
       "    </tr>\n",
       "  </tbody>\n",
       "</table>\n",
       "<p>900 rows × 8 columns</p>\n",
       "</div>"
      ],
      "text/plain": [
       "                      nome_passageiro                nome_solicitante  \\\n",
       "0             DOUGLAS BORGES DE SOUSA         DOUGLAS BORGES DE SOUSA   \n",
       "5           Elizete Meireles da Costa       ELIZETE MEIRELES DA COSTA   \n",
       "6           Elizete Meireles da Costa       ELIZETE MEIRELES DA COSTA   \n",
       "7           Elizete Meireles da Costa       ELIZETE MEIRELES DA COSTA   \n",
       "8           Elizete Meireles da Costa       ELIZETE MEIRELES DA COSTA   \n",
       "...                               ...                             ...   \n",
       "53825      WILLIAN ALMEIDA CAVALCANTI  DHENNER MITCHEL LOPES DE SOUZA   \n",
       "53999  WILSON PEREIRA RODRIGUES FILHO       FRANCISCO FELIPE SANTIAGO   \n",
       "54132           Yasmin Marques Barros           YASMIN MARQUES BARROS   \n",
       "54135           Yasmin Marques Barros           YASMIN MARQUES BARROS   \n",
       "54166       Yuri Gabriel Silva Santos       YURI GABRIEL SILVA SANTOS   \n",
       "\n",
       "      cpf_solicitante  km_total  valor_corridas  quantidade_corridas   ano  \\\n",
       "0      ***.425.428-**     20.20           59.99                    1  2020   \n",
       "5      ***.378.031-**     13.50           39.15                    1  2020   \n",
       "6      ***.378.031-**      1.40            5.94                    1  2020   \n",
       "7      ***.378.031-**      3.50           10.40                    1  2020   \n",
       "8      ***.378.031-**      6.40           29.70                    5  2020   \n",
       "...               ...       ...             ...                  ...   ...   \n",
       "53825  ***.989.206-**     23.20           68.91                    2  2020   \n",
       "53999  ***.800.081-**     28.10           83.46                    1  2020   \n",
       "54132  ***.785.181-**     40.30          119.69                    4  2021   \n",
       "54135  ***.785.181-**     40.48          127.92                    4  2021   \n",
       "54166  ***.168.181-**      8.40           31.52                    4  2021   \n",
       "\n",
       "       mes  \n",
       "0       10  \n",
       "5        4  \n",
       "6        5  \n",
       "7        9  \n",
       "8       12  \n",
       "...    ...  \n",
       "53825    7  \n",
       "53999    7  \n",
       "54132    3  \n",
       "54135    7  \n",
       "54166   10  \n",
       "\n",
       "[900 rows x 8 columns]"
      ]
     },
     "execution_count": 9,
     "metadata": {},
     "output_type": "execute_result"
    }
   ],
   "source": [
    "df[df['nome_solicitante']!=df['nome_passageiro']]"
   ]
  },
  {
   "cell_type": "markdown",
   "id": "56caf0e6",
   "metadata": {},
   "source": [
    "__Converte nomes em letras maísculas e limpa caracteres de espaço__"
   ]
  },
  {
   "cell_type": "code",
   "execution_count": 10,
   "id": "55c14232",
   "metadata": {},
   "outputs": [],
   "source": [
    "df['nome_solicitante'] = df['nome_solicitante'].apply(lambda x: x.upper().strip())"
   ]
  },
  {
   "cell_type": "code",
   "execution_count": 11,
   "id": "247c0036",
   "metadata": {},
   "outputs": [],
   "source": [
    "df['nome_passageiro'] = df['nome_passageiro'].apply(lambda x: x.upper().strip())"
   ]
  },
  {
   "cell_type": "code",
   "execution_count": 12,
   "id": "c666e80b",
   "metadata": {},
   "outputs": [
    {
     "data": {
      "text/html": [
       "<div>\n",
       "<style scoped>\n",
       "    .dataframe tbody tr th:only-of-type {\n",
       "        vertical-align: middle;\n",
       "    }\n",
       "\n",
       "    .dataframe tbody tr th {\n",
       "        vertical-align: top;\n",
       "    }\n",
       "\n",
       "    .dataframe thead th {\n",
       "        text-align: right;\n",
       "    }\n",
       "</style>\n",
       "<table border=\"1\" class=\"dataframe\">\n",
       "  <thead>\n",
       "    <tr style=\"text-align: right;\">\n",
       "      <th></th>\n",
       "      <th>nome_passageiro</th>\n",
       "      <th>nome_solicitante</th>\n",
       "      <th>cpf_solicitante</th>\n",
       "      <th>km_total</th>\n",
       "      <th>valor_corridas</th>\n",
       "      <th>quantidade_corridas</th>\n",
       "      <th>ano</th>\n",
       "      <th>mes</th>\n",
       "    </tr>\n",
       "  </thead>\n",
       "  <tbody>\n",
       "    <tr>\n",
       "      <th>20</th>\n",
       "      <td>01</td>\n",
       "      <td>ADRIANA OLIVEIRA E SILVA</td>\n",
       "      <td>***.997.951-**</td>\n",
       "      <td>1.01</td>\n",
       "      <td>6.32</td>\n",
       "      <td>1</td>\n",
       "      <td>2021</td>\n",
       "      <td>8</td>\n",
       "    </tr>\n",
       "    <tr>\n",
       "      <th>21</th>\n",
       "      <td>01</td>\n",
       "      <td>ADRIANA OLIVEIRA E SILVA</td>\n",
       "      <td>***.997.951-**</td>\n",
       "      <td>1.03</td>\n",
       "      <td>6.32</td>\n",
       "      <td>1</td>\n",
       "      <td>2021</td>\n",
       "      <td>9</td>\n",
       "    </tr>\n",
       "    <tr>\n",
       "      <th>22</th>\n",
       "      <td>01</td>\n",
       "      <td>RAIMUNDO SOARES BRITO</td>\n",
       "      <td>***.411.501-**</td>\n",
       "      <td>1.80</td>\n",
       "      <td>5.94</td>\n",
       "      <td>1</td>\n",
       "      <td>2020</td>\n",
       "      <td>7</td>\n",
       "    </tr>\n",
       "    <tr>\n",
       "      <th>23</th>\n",
       "      <td>04</td>\n",
       "      <td>GUY MADESON NATION DE JESUS SANTOS</td>\n",
       "      <td>***.132.551-**</td>\n",
       "      <td>6.80</td>\n",
       "      <td>20.20</td>\n",
       "      <td>1</td>\n",
       "      <td>2020</td>\n",
       "      <td>12</td>\n",
       "    </tr>\n",
       "    <tr>\n",
       "      <th>25</th>\n",
       "      <td>1</td>\n",
       "      <td>GISELA GOMES SANCHES</td>\n",
       "      <td>***.565.001-**</td>\n",
       "      <td>11.50</td>\n",
       "      <td>34.16</td>\n",
       "      <td>1</td>\n",
       "      <td>2021</td>\n",
       "      <td>1</td>\n",
       "    </tr>\n",
       "    <tr>\n",
       "      <th>...</th>\n",
       "      <td>...</td>\n",
       "      <td>...</td>\n",
       "      <td>...</td>\n",
       "      <td>...</td>\n",
       "      <td>...</td>\n",
       "      <td>...</td>\n",
       "      <td>...</td>\n",
       "      <td>...</td>\n",
       "    </tr>\n",
       "    <tr>\n",
       "      <th>53195</th>\n",
       "      <td>WANESSA PORTO SILVA</td>\n",
       "      <td>ANDRÉ LUIZ TOSCANO DE BRITO</td>\n",
       "      <td>***.284.026-**</td>\n",
       "      <td>2.08</td>\n",
       "      <td>6.58</td>\n",
       "      <td>1</td>\n",
       "      <td>2021</td>\n",
       "      <td>10</td>\n",
       "    </tr>\n",
       "    <tr>\n",
       "      <th>53326</th>\n",
       "      <td>WELDER ALMEIDA DE OLIVEIRA</td>\n",
       "      <td>LUCELIA DOS SANTOS ALMEIDA MACHADO</td>\n",
       "      <td>***.011.951-**</td>\n",
       "      <td>2.20</td>\n",
       "      <td>6.38</td>\n",
       "      <td>1</td>\n",
       "      <td>2020</td>\n",
       "      <td>3</td>\n",
       "    </tr>\n",
       "    <tr>\n",
       "      <th>53810</th>\n",
       "      <td>WILLIAM SOUTO SILVA</td>\n",
       "      <td>IGOR DE FREITAS VASCONCELOS</td>\n",
       "      <td>***.171.471-**</td>\n",
       "      <td>25.30</td>\n",
       "      <td>75.14</td>\n",
       "      <td>2</td>\n",
       "      <td>2021</td>\n",
       "      <td>3</td>\n",
       "    </tr>\n",
       "    <tr>\n",
       "      <th>53825</th>\n",
       "      <td>WILLIAN ALMEIDA CAVALCANTI</td>\n",
       "      <td>DHENNER MITCHEL LOPES DE SOUZA</td>\n",
       "      <td>***.989.206-**</td>\n",
       "      <td>23.20</td>\n",
       "      <td>68.91</td>\n",
       "      <td>2</td>\n",
       "      <td>2020</td>\n",
       "      <td>7</td>\n",
       "    </tr>\n",
       "    <tr>\n",
       "      <th>53999</th>\n",
       "      <td>WILSON PEREIRA RODRIGUES FILHO</td>\n",
       "      <td>FRANCISCO FELIPE SANTIAGO</td>\n",
       "      <td>***.800.081-**</td>\n",
       "      <td>28.10</td>\n",
       "      <td>83.46</td>\n",
       "      <td>1</td>\n",
       "      <td>2020</td>\n",
       "      <td>7</td>\n",
       "    </tr>\n",
       "  </tbody>\n",
       "</table>\n",
       "<p>363 rows × 8 columns</p>\n",
       "</div>"
      ],
      "text/plain": [
       "                      nome_passageiro                    nome_solicitante  \\\n",
       "20                                 01            ADRIANA OLIVEIRA E SILVA   \n",
       "21                                 01            ADRIANA OLIVEIRA E SILVA   \n",
       "22                                 01               RAIMUNDO SOARES BRITO   \n",
       "23                                 04  GUY MADESON NATION DE JESUS SANTOS   \n",
       "25                                  1                GISELA GOMES SANCHES   \n",
       "...                               ...                                 ...   \n",
       "53195             WANESSA PORTO SILVA         ANDRÉ LUIZ TOSCANO DE BRITO   \n",
       "53326      WELDER ALMEIDA DE OLIVEIRA  LUCELIA DOS SANTOS ALMEIDA MACHADO   \n",
       "53810             WILLIAM SOUTO SILVA         IGOR DE FREITAS VASCONCELOS   \n",
       "53825      WILLIAN ALMEIDA CAVALCANTI      DHENNER MITCHEL LOPES DE SOUZA   \n",
       "53999  WILSON PEREIRA RODRIGUES FILHO           FRANCISCO FELIPE SANTIAGO   \n",
       "\n",
       "      cpf_solicitante  km_total  valor_corridas  quantidade_corridas   ano  \\\n",
       "20     ***.997.951-**      1.01            6.32                    1  2021   \n",
       "21     ***.997.951-**      1.03            6.32                    1  2021   \n",
       "22     ***.411.501-**      1.80            5.94                    1  2020   \n",
       "23     ***.132.551-**      6.80           20.20                    1  2020   \n",
       "25     ***.565.001-**     11.50           34.16                    1  2021   \n",
       "...               ...       ...             ...                  ...   ...   \n",
       "53195  ***.284.026-**      2.08            6.58                    1  2021   \n",
       "53326  ***.011.951-**      2.20            6.38                    1  2020   \n",
       "53810  ***.171.471-**     25.30           75.14                    2  2021   \n",
       "53825  ***.989.206-**     23.20           68.91                    2  2020   \n",
       "53999  ***.800.081-**     28.10           83.46                    1  2020   \n",
       "\n",
       "       mes  \n",
       "20       8  \n",
       "21       9  \n",
       "22       7  \n",
       "23      12  \n",
       "25       1  \n",
       "...    ...  \n",
       "53195   10  \n",
       "53326    3  \n",
       "53810    3  \n",
       "53825    7  \n",
       "53999    7  \n",
       "\n",
       "[363 rows x 8 columns]"
      ]
     },
     "execution_count": 12,
     "metadata": {},
     "output_type": "execute_result"
    }
   ],
   "source": [
    "df[df['nome_solicitante']!=df['nome_passageiro']]"
   ]
  },
  {
   "cell_type": "markdown",
   "id": "f23133ca",
   "metadata": {},
   "source": [
    "\n",
    "__CPFs ausentes__"
   ]
  },
  {
   "cell_type": "code",
   "execution_count": 13,
   "id": "a55cdf1c",
   "metadata": {
    "scrolled": false
   },
   "outputs": [
    {
     "data": {
      "text/html": [
       "<div>\n",
       "<style scoped>\n",
       "    .dataframe tbody tr th:only-of-type {\n",
       "        vertical-align: middle;\n",
       "    }\n",
       "\n",
       "    .dataframe tbody tr th {\n",
       "        vertical-align: top;\n",
       "    }\n",
       "\n",
       "    .dataframe thead th {\n",
       "        text-align: right;\n",
       "    }\n",
       "</style>\n",
       "<table border=\"1\" class=\"dataframe\">\n",
       "  <thead>\n",
       "    <tr style=\"text-align: right;\">\n",
       "      <th></th>\n",
       "      <th>nome_passageiro</th>\n",
       "      <th>nome_solicitante</th>\n",
       "      <th>cpf_solicitante</th>\n",
       "      <th>km_total</th>\n",
       "      <th>valor_corridas</th>\n",
       "      <th>quantidade_corridas</th>\n",
       "      <th>ano</th>\n",
       "      <th>mes</th>\n",
       "    </tr>\n",
       "  </thead>\n",
       "  <tbody>\n",
       "    <tr>\n",
       "      <th>28</th>\n",
       "      <td>12241</td>\n",
       "      <td>12241</td>\n",
       "      <td>-</td>\n",
       "      <td>44.84</td>\n",
       "      <td>141.69</td>\n",
       "      <td>2</td>\n",
       "      <td>2021</td>\n",
       "      <td>7</td>\n",
       "    </tr>\n",
       "    <tr>\n",
       "      <th>29</th>\n",
       "      <td>15101</td>\n",
       "      <td>15101</td>\n",
       "      <td>-</td>\n",
       "      <td>17.49</td>\n",
       "      <td>53.05</td>\n",
       "      <td>3</td>\n",
       "      <td>2021</td>\n",
       "      <td>5</td>\n",
       "    </tr>\n",
       "    <tr>\n",
       "      <th>30</th>\n",
       "      <td>15101</td>\n",
       "      <td>15101</td>\n",
       "      <td>-</td>\n",
       "      <td>26.15</td>\n",
       "      <td>82.64</td>\n",
       "      <td>5</td>\n",
       "      <td>2021</td>\n",
       "      <td>6</td>\n",
       "    </tr>\n",
       "    <tr>\n",
       "      <th>31</th>\n",
       "      <td>15101</td>\n",
       "      <td>15101</td>\n",
       "      <td>-</td>\n",
       "      <td>7.16</td>\n",
       "      <td>22.64</td>\n",
       "      <td>1</td>\n",
       "      <td>2021</td>\n",
       "      <td>7</td>\n",
       "    </tr>\n",
       "    <tr>\n",
       "      <th>32</th>\n",
       "      <td>15101</td>\n",
       "      <td>15101</td>\n",
       "      <td>-</td>\n",
       "      <td>57.11</td>\n",
       "      <td>180.48</td>\n",
       "      <td>10</td>\n",
       "      <td>2021</td>\n",
       "      <td>8</td>\n",
       "    </tr>\n",
       "    <tr>\n",
       "      <th>...</th>\n",
       "      <td>...</td>\n",
       "      <td>...</td>\n",
       "      <td>...</td>\n",
       "      <td>...</td>\n",
       "      <td>...</td>\n",
       "      <td>...</td>\n",
       "      <td>...</td>\n",
       "      <td>...</td>\n",
       "    </tr>\n",
       "    <tr>\n",
       "      <th>54152</th>\n",
       "      <td>YSABELLE CASTRO</td>\n",
       "      <td>YSABELLE CASTRO</td>\n",
       "      <td>-</td>\n",
       "      <td>9.30</td>\n",
       "      <td>29.11</td>\n",
       "      <td>4</td>\n",
       "      <td>2020</td>\n",
       "      <td>6</td>\n",
       "    </tr>\n",
       "    <tr>\n",
       "      <th>54153</th>\n",
       "      <td>YSABELLE CASTRO</td>\n",
       "      <td>YSABELLE CASTRO</td>\n",
       "      <td>-</td>\n",
       "      <td>19.80</td>\n",
       "      <td>60.30</td>\n",
       "      <td>7</td>\n",
       "      <td>2020</td>\n",
       "      <td>7</td>\n",
       "    </tr>\n",
       "    <tr>\n",
       "      <th>54154</th>\n",
       "      <td>YSABELLE CASTRO</td>\n",
       "      <td>YSABELLE CASTRO</td>\n",
       "      <td>-</td>\n",
       "      <td>9.50</td>\n",
       "      <td>28.22</td>\n",
       "      <td>2</td>\n",
       "      <td>2020</td>\n",
       "      <td>8</td>\n",
       "    </tr>\n",
       "    <tr>\n",
       "      <th>54155</th>\n",
       "      <td>YSABELLE CASTRO</td>\n",
       "      <td>YSABELLE CASTRO</td>\n",
       "      <td>-</td>\n",
       "      <td>10.40</td>\n",
       "      <td>31.79</td>\n",
       "      <td>4</td>\n",
       "      <td>2020</td>\n",
       "      <td>9</td>\n",
       "    </tr>\n",
       "    <tr>\n",
       "      <th>54156</th>\n",
       "      <td>YSABELLE CASTRO</td>\n",
       "      <td>YSABELLE CASTRO</td>\n",
       "      <td>-</td>\n",
       "      <td>4.50</td>\n",
       "      <td>14.26</td>\n",
       "      <td>2</td>\n",
       "      <td>2021</td>\n",
       "      <td>2</td>\n",
       "    </tr>\n",
       "  </tbody>\n",
       "</table>\n",
       "<p>1364 rows × 8 columns</p>\n",
       "</div>"
      ],
      "text/plain": [
       "       nome_passageiro nome_solicitante cpf_solicitante  km_total  \\\n",
       "28               12241            12241               -     44.84   \n",
       "29               15101            15101               -     17.49   \n",
       "30               15101            15101               -     26.15   \n",
       "31               15101            15101               -      7.16   \n",
       "32               15101            15101               -     57.11   \n",
       "...                ...              ...             ...       ...   \n",
       "54152  YSABELLE CASTRO  YSABELLE CASTRO               -      9.30   \n",
       "54153  YSABELLE CASTRO  YSABELLE CASTRO               -     19.80   \n",
       "54154  YSABELLE CASTRO  YSABELLE CASTRO               -      9.50   \n",
       "54155  YSABELLE CASTRO  YSABELLE CASTRO               -     10.40   \n",
       "54156  YSABELLE CASTRO  YSABELLE CASTRO               -      4.50   \n",
       "\n",
       "       valor_corridas  quantidade_corridas   ano  mes  \n",
       "28             141.69                    2  2021    7  \n",
       "29              53.05                    3  2021    5  \n",
       "30              82.64                    5  2021    6  \n",
       "31              22.64                    1  2021    7  \n",
       "32             180.48                   10  2021    8  \n",
       "...               ...                  ...   ...  ...  \n",
       "54152           29.11                    4  2020    6  \n",
       "54153           60.30                    7  2020    7  \n",
       "54154           28.22                    2  2020    8  \n",
       "54155           31.79                    4  2020    9  \n",
       "54156           14.26                    2  2021    2  \n",
       "\n",
       "[1364 rows x 8 columns]"
      ]
     },
     "execution_count": 13,
     "metadata": {},
     "output_type": "execute_result"
    }
   ],
   "source": [
    "df[df['cpf_solicitante'].apply(lambda x: len(x)<11)]"
   ]
  },
  {
   "cell_type": "markdown",
   "id": "90cc23c6",
   "metadata": {},
   "source": [
    "__Número de solicitantes distintos na base de dados__"
   ]
  },
  {
   "cell_type": "code",
   "execution_count": 14,
   "id": "0127a621",
   "metadata": {},
   "outputs": [
    {
     "data": {
      "text/plain": [
       "11684"
      ]
     },
     "execution_count": 14,
     "metadata": {},
     "output_type": "execute_result"
    }
   ],
   "source": [
    "df[df['cpf_solicitante'].apply(lambda x: len(x)>11)]['cpf_solicitante'].nunique()"
   ]
  },
  {
   "cell_type": "markdown",
   "id": "3497651c",
   "metadata": {},
   "source": [
    "__Valor total gasto em corridas (em Milhões de reais) em todo o período registrado__"
   ]
  },
  {
   "cell_type": "code",
   "execution_count": 15,
   "id": "7a1e70df",
   "metadata": {},
   "outputs": [
    {
     "data": {
      "text/plain": [
       "6.687290894999999"
      ]
     },
     "execution_count": 15,
     "metadata": {},
     "output_type": "execute_result"
    }
   ],
   "source": [
    "df['valor_corridas'].sum()/1e6"
   ]
  },
  {
   "cell_type": "markdown",
   "id": "571f257d",
   "metadata": {},
   "source": [
    "__Quantidade total das corridas em todo o período registrado__"
   ]
  },
  {
   "cell_type": "code",
   "execution_count": 16,
   "id": "58294c69",
   "metadata": {},
   "outputs": [
    {
     "data": {
      "text/plain": [
       "269566"
      ]
     },
     "execution_count": 16,
     "metadata": {},
     "output_type": "execute_result"
    }
   ],
   "source": [
    "df['quantidade_corridas'].sum()"
   ]
  },
  {
   "cell_type": "markdown",
   "id": "0f12d61d",
   "metadata": {},
   "source": [
    "__Quantidade total de km (em milhões) em todo o período registrado__"
   ]
  },
  {
   "cell_type": "code",
   "execution_count": 17,
   "id": "256522cd",
   "metadata": {},
   "outputs": [
    {
     "data": {
      "text/plain": [
       "2.220541462"
      ]
     },
     "execution_count": 17,
     "metadata": {},
     "output_type": "execute_result"
    }
   ],
   "source": [
    "df['km_total'].sum()/1e6"
   ]
  },
  {
   "cell_type": "markdown",
   "id": "6bec7e62",
   "metadata": {},
   "source": [
    "__Passageiro com maior valor de corridas registrada num dado mês__"
   ]
  },
  {
   "cell_type": "code",
   "execution_count": 18,
   "id": "c83499f7",
   "metadata": {},
   "outputs": [
    {
     "data": {
      "text/html": [
       "<div>\n",
       "<style scoped>\n",
       "    .dataframe tbody tr th:only-of-type {\n",
       "        vertical-align: middle;\n",
       "    }\n",
       "\n",
       "    .dataframe tbody tr th {\n",
       "        vertical-align: top;\n",
       "    }\n",
       "\n",
       "    .dataframe thead th {\n",
       "        text-align: right;\n",
       "    }\n",
       "</style>\n",
       "<table border=\"1\" class=\"dataframe\">\n",
       "  <thead>\n",
       "    <tr style=\"text-align: right;\">\n",
       "      <th></th>\n",
       "      <th>nome_passageiro</th>\n",
       "      <th>nome_solicitante</th>\n",
       "      <th>cpf_solicitante</th>\n",
       "      <th>km_total</th>\n",
       "      <th>valor_corridas</th>\n",
       "      <th>quantidade_corridas</th>\n",
       "      <th>ano</th>\n",
       "      <th>mes</th>\n",
       "    </tr>\n",
       "  </thead>\n",
       "  <tbody>\n",
       "    <tr>\n",
       "      <th>5399</th>\n",
       "      <td>ANTONIO CARLOS VIEIRA DOS SANTOS</td>\n",
       "      <td>ANTONIO CARLOS VIEIRA DOS SANTOS</td>\n",
       "      <td>***.916.547-**</td>\n",
       "      <td>2234.2</td>\n",
       "      <td>6532.37</td>\n",
       "      <td>58</td>\n",
       "      <td>2021</td>\n",
       "      <td>8</td>\n",
       "    </tr>\n",
       "  </tbody>\n",
       "</table>\n",
       "</div>"
      ],
      "text/plain": [
       "                       nome_passageiro                  nome_solicitante  \\\n",
       "5399  ANTONIO CARLOS VIEIRA DOS SANTOS  ANTONIO CARLOS VIEIRA DOS SANTOS   \n",
       "\n",
       "     cpf_solicitante  km_total  valor_corridas  quantidade_corridas   ano  mes  \n",
       "5399  ***.916.547-**    2234.2         6532.37                   58  2021    8  "
      ]
     },
     "execution_count": 18,
     "metadata": {},
     "output_type": "execute_result"
    }
   ],
   "source": [
    "df[(df['valor_corridas']==df['valor_corridas'].max())]"
   ]
  },
  {
   "cell_type": "markdown",
   "id": "a83ebf77",
   "metadata": {},
   "source": [
    "__Passageiro com maior quantidade de solicitações de corrida registrada num dado mês__"
   ]
  },
  {
   "cell_type": "code",
   "execution_count": 19,
   "id": "a9fdc785",
   "metadata": {},
   "outputs": [
    {
     "data": {
      "text/html": [
       "<div>\n",
       "<style scoped>\n",
       "    .dataframe tbody tr th:only-of-type {\n",
       "        vertical-align: middle;\n",
       "    }\n",
       "\n",
       "    .dataframe tbody tr th {\n",
       "        vertical-align: top;\n",
       "    }\n",
       "\n",
       "    .dataframe thead th {\n",
       "        text-align: right;\n",
       "    }\n",
       "</style>\n",
       "<table border=\"1\" class=\"dataframe\">\n",
       "  <thead>\n",
       "    <tr style=\"text-align: right;\">\n",
       "      <th></th>\n",
       "      <th>nome_passageiro</th>\n",
       "      <th>nome_solicitante</th>\n",
       "      <th>cpf_solicitante</th>\n",
       "      <th>km_total</th>\n",
       "      <th>valor_corridas</th>\n",
       "      <th>quantidade_corridas</th>\n",
       "      <th>ano</th>\n",
       "      <th>mes</th>\n",
       "    </tr>\n",
       "  </thead>\n",
       "  <tbody>\n",
       "    <tr>\n",
       "      <th>19664</th>\n",
       "      <td>FRANCIVAN DO NASCIMENTO ASSIS</td>\n",
       "      <td>FRANCIVAN DO NASCIMENTO ASSIS</td>\n",
       "      <td>***.313.061-**</td>\n",
       "      <td>1413.71</td>\n",
       "      <td>4583.75</td>\n",
       "      <td>199</td>\n",
       "      <td>2021</td>\n",
       "      <td>8</td>\n",
       "    </tr>\n",
       "  </tbody>\n",
       "</table>\n",
       "</div>"
      ],
      "text/plain": [
       "                     nome_passageiro               nome_solicitante  \\\n",
       "19664  FRANCIVAN DO NASCIMENTO ASSIS  FRANCIVAN DO NASCIMENTO ASSIS   \n",
       "\n",
       "      cpf_solicitante  km_total  valor_corridas  quantidade_corridas   ano  \\\n",
       "19664  ***.313.061-**   1413.71         4583.75                  199  2021   \n",
       "\n",
       "       mes  \n",
       "19664    8  "
      ]
     },
     "execution_count": 19,
     "metadata": {},
     "output_type": "execute_result"
    }
   ],
   "source": [
    "df[df['quantidade_corridas']==df['quantidade_corridas'].max()]"
   ]
  },
  {
   "cell_type": "markdown",
   "id": "e8ee6428",
   "metadata": {},
   "source": [
    "Todas as corridas solicitadas por esse passageiro ao longo dos meses"
   ]
  },
  {
   "cell_type": "code",
   "execution_count": 20,
   "id": "f25fd02c",
   "metadata": {
    "scrolled": true
   },
   "outputs": [
    {
     "data": {
      "image/png": "[encoded data removed]",
      "text/plain": [
       "<Figure size 432x288 with 1 Axes>"
      ]
     },
     "metadata": {
      "needs_background": "light"
     },
     "output_type": "display_data"
    }
   ],
   "source": [
    "df[df['cpf_solicitante']=='***.313.061-**'].groupby(['ano','mes']).sum()['quantidade_corridas'].plot(kind='bar')\n",
    "plt.ylabel('Qtd Corridas')\n",
    "plt.xlabel('Ano, Mês')\n",
    "plt.tight_layout()"
   ]
  },
  {
   "cell_type": "markdown",
   "id": "0b32987d",
   "metadata": {},
   "source": [
    "__As 10 maiores quantidades de corridas solicitadas__"
   ]
  },
  {
   "cell_type": "code",
   "execution_count": 21,
   "id": "47607abf",
   "metadata": {},
   "outputs": [
    {
     "data": {
      "text/plain": [
       "array([199, 180, 133, 122, 120, 113, 107, 106, 104, 100])"
      ]
     },
     "execution_count": 21,
     "metadata": {},
     "output_type": "execute_result"
    }
   ],
   "source": [
    "df['quantidade_corridas'].nlargest(10).values"
   ]
  },
  {
   "cell_type": "code",
   "execution_count": 22,
   "id": "22c71366",
   "metadata": {},
   "outputs": [
    {
     "data": {
      "text/html": [
       "<div>\n",
       "<style scoped>\n",
       "    .dataframe tbody tr th:only-of-type {\n",
       "        vertical-align: middle;\n",
       "    }\n",
       "\n",
       "    .dataframe tbody tr th {\n",
       "        vertical-align: top;\n",
       "    }\n",
       "\n",
       "    .dataframe thead th {\n",
       "        text-align: right;\n",
       "    }\n",
       "</style>\n",
       "<table border=\"1\" class=\"dataframe\">\n",
       "  <thead>\n",
       "    <tr style=\"text-align: right;\">\n",
       "      <th></th>\n",
       "      <th>nome_passageiro</th>\n",
       "      <th>nome_solicitante</th>\n",
       "      <th>cpf_solicitante</th>\n",
       "      <th>km_total</th>\n",
       "      <th>valor_corridas</th>\n",
       "      <th>quantidade_corridas</th>\n",
       "      <th>ano</th>\n",
       "      <th>mes</th>\n",
       "    </tr>\n",
       "  </thead>\n",
       "  <tbody>\n",
       "    <tr>\n",
       "      <th>19664</th>\n",
       "      <td>FRANCIVAN DO NASCIMENTO ASSIS</td>\n",
       "      <td>FRANCIVAN DO NASCIMENTO ASSIS</td>\n",
       "      <td>***.313.061-**</td>\n",
       "      <td>1413.71</td>\n",
       "      <td>4583.75</td>\n",
       "      <td>199</td>\n",
       "      <td>2021</td>\n",
       "      <td>8</td>\n",
       "    </tr>\n",
       "    <tr>\n",
       "      <th>19655</th>\n",
       "      <td>FRANCIVAN DO NASCIMENTO ASSIS</td>\n",
       "      <td>FRANCIVAN DO NASCIMENTO ASSIS</td>\n",
       "      <td>***.313.061-**</td>\n",
       "      <td>1559.10</td>\n",
       "      <td>4332.95</td>\n",
       "      <td>180</td>\n",
       "      <td>2020</td>\n",
       "      <td>11</td>\n",
       "    </tr>\n",
       "    <tr>\n",
       "      <th>19661</th>\n",
       "      <td>FRANCIVAN DO NASCIMENTO ASSIS</td>\n",
       "      <td>FRANCIVAN DO NASCIMENTO ASSIS</td>\n",
       "      <td>***.313.061-**</td>\n",
       "      <td>521.23</td>\n",
       "      <td>1698.98</td>\n",
       "      <td>133</td>\n",
       "      <td>2021</td>\n",
       "      <td>5</td>\n",
       "    </tr>\n",
       "    <tr>\n",
       "      <th>19665</th>\n",
       "      <td>FRANCIVAN DO NASCIMENTO ASSIS</td>\n",
       "      <td>FRANCIVAN DO NASCIMENTO ASSIS</td>\n",
       "      <td>***.313.061-**</td>\n",
       "      <td>718.42</td>\n",
       "      <td>2433.80</td>\n",
       "      <td>122</td>\n",
       "      <td>2021</td>\n",
       "      <td>9</td>\n",
       "    </tr>\n",
       "    <tr>\n",
       "      <th>19659</th>\n",
       "      <td>FRANCIVAN DO NASCIMENTO ASSIS</td>\n",
       "      <td>FRANCIVAN DO NASCIMENTO ASSIS</td>\n",
       "      <td>***.313.061-**</td>\n",
       "      <td>462.06</td>\n",
       "      <td>1748.61</td>\n",
       "      <td>120</td>\n",
       "      <td>2021</td>\n",
       "      <td>3</td>\n",
       "    </tr>\n",
       "    <tr>\n",
       "      <th>19662</th>\n",
       "      <td>FRANCIVAN DO NASCIMENTO ASSIS</td>\n",
       "      <td>FRANCIVAN DO NASCIMENTO ASSIS</td>\n",
       "      <td>***.313.061-**</td>\n",
       "      <td>969.06</td>\n",
       "      <td>3123.95</td>\n",
       "      <td>113</td>\n",
       "      <td>2021</td>\n",
       "      <td>6</td>\n",
       "    </tr>\n",
       "    <tr>\n",
       "      <th>19660</th>\n",
       "      <td>FRANCIVAN DO NASCIMENTO ASSIS</td>\n",
       "      <td>FRANCIVAN DO NASCIMENTO ASSIS</td>\n",
       "      <td>***.313.061-**</td>\n",
       "      <td>357.65</td>\n",
       "      <td>1226.27</td>\n",
       "      <td>107</td>\n",
       "      <td>2021</td>\n",
       "      <td>4</td>\n",
       "    </tr>\n",
       "    <tr>\n",
       "      <th>8156</th>\n",
       "      <td>CARLOS BATISTA DA SILVA</td>\n",
       "      <td>CARLOS BATISTA DA SILVA</td>\n",
       "      <td>***.104.941-**</td>\n",
       "      <td>677.80</td>\n",
       "      <td>2013.76</td>\n",
       "      <td>106</td>\n",
       "      <td>2020</td>\n",
       "      <td>12</td>\n",
       "    </tr>\n",
       "    <tr>\n",
       "      <th>19666</th>\n",
       "      <td>FRANCIVAN DO NASCIMENTO ASSIS</td>\n",
       "      <td>FRANCIVAN DO NASCIMENTO ASSIS</td>\n",
       "      <td>***.313.061-**</td>\n",
       "      <td>462.68</td>\n",
       "      <td>1534.28</td>\n",
       "      <td>104</td>\n",
       "      <td>2021</td>\n",
       "      <td>10</td>\n",
       "    </tr>\n",
       "    <tr>\n",
       "      <th>18445</th>\n",
       "      <td>FERNANDO GOMES PINTO DOS REIS MACHADO</td>\n",
       "      <td>FERNANDO GOMES PINTO DOS REIS MACHADO</td>\n",
       "      <td>***.846.701-**</td>\n",
       "      <td>531.00</td>\n",
       "      <td>1570.93</td>\n",
       "      <td>100</td>\n",
       "      <td>2019</td>\n",
       "      <td>10</td>\n",
       "    </tr>\n",
       "  </tbody>\n",
       "</table>\n",
       "</div>"
      ],
      "text/plain": [
       "                             nome_passageiro  \\\n",
       "19664          FRANCIVAN DO NASCIMENTO ASSIS   \n",
       "19655          FRANCIVAN DO NASCIMENTO ASSIS   \n",
       "19661          FRANCIVAN DO NASCIMENTO ASSIS   \n",
       "19665          FRANCIVAN DO NASCIMENTO ASSIS   \n",
       "19659          FRANCIVAN DO NASCIMENTO ASSIS   \n",
       "19662          FRANCIVAN DO NASCIMENTO ASSIS   \n",
       "19660          FRANCIVAN DO NASCIMENTO ASSIS   \n",
       "8156                 CARLOS BATISTA DA SILVA   \n",
       "19666          FRANCIVAN DO NASCIMENTO ASSIS   \n",
       "18445  FERNANDO GOMES PINTO DOS REIS MACHADO   \n",
       "\n",
       "                            nome_solicitante cpf_solicitante  km_total  \\\n",
       "19664          FRANCIVAN DO NASCIMENTO ASSIS  ***.313.061-**   1413.71   \n",
       "19655          FRANCIVAN DO NASCIMENTO ASSIS  ***.313.061-**   1559.10   \n",
       "19661          FRANCIVAN DO NASCIMENTO ASSIS  ***.313.061-**    521.23   \n",
       "19665          FRANCIVAN DO NASCIMENTO ASSIS  ***.313.061-**    718.42   \n",
       "19659          FRANCIVAN DO NASCIMENTO ASSIS  ***.313.061-**    462.06   \n",
       "19662          FRANCIVAN DO NASCIMENTO ASSIS  ***.313.061-**    969.06   \n",
       "19660          FRANCIVAN DO NASCIMENTO ASSIS  ***.313.061-**    357.65   \n",
       "8156                 CARLOS BATISTA DA SILVA  ***.104.941-**    677.80   \n",
       "19666          FRANCIVAN DO NASCIMENTO ASSIS  ***.313.061-**    462.68   \n",
       "18445  FERNANDO GOMES PINTO DOS REIS MACHADO  ***.846.701-**    531.00   \n",
       "\n",
       "       valor_corridas  quantidade_corridas   ano  mes  \n",
       "19664         4583.75                  199  2021    8  \n",
       "19655         4332.95                  180  2020   11  \n",
       "19661         1698.98                  133  2021    5  \n",
       "19665         2433.80                  122  2021    9  \n",
       "19659         1748.61                  120  2021    3  \n",
       "19662         3123.95                  113  2021    6  \n",
       "19660         1226.27                  107  2021    4  \n",
       "8156          2013.76                  106  2020   12  \n",
       "19666         1534.28                  104  2021   10  \n",
       "18445         1570.93                  100  2019   10  "
      ]
     },
     "execution_count": 22,
     "metadata": {},
     "output_type": "execute_result"
    }
   ],
   "source": [
    "frames=[]\n",
    "for each in df['quantidade_corridas'].nlargest(10):\n",
    "    frames.append(df[df['quantidade_corridas']==each])\n",
    "    qt_corridas_10 = pd.concat(frames)\n",
    "qt_corridas_10"
   ]
  },
  {
   "cell_type": "markdown",
   "id": "3d2405d9",
   "metadata": {},
   "source": [
    "__Os 10 maiores valores de corridas solicitadas__"
   ]
  },
  {
   "cell_type": "code",
   "execution_count": 23,
   "id": "01ee2c97",
   "metadata": {
    "scrolled": true
   },
   "outputs": [
    {
     "data": {
      "text/plain": [
       "array([6532.37, 6189.3 , 6064.24, 5838.99, 4693.77, 4681.64, 4583.75,\n",
       "       4577.95, 4516.17, 4478.78])"
      ]
     },
     "execution_count": 23,
     "metadata": {},
     "output_type": "execute_result"
    }
   ],
   "source": [
    "df['valor_corridas'].nlargest(10).values"
   ]
  },
  {
   "cell_type": "code",
   "execution_count": 24,
   "id": "6edb9041",
   "metadata": {
    "scrolled": true
   },
   "outputs": [
    {
     "data": {
      "text/html": [
       "<div>\n",
       "<style scoped>\n",
       "    .dataframe tbody tr th:only-of-type {\n",
       "        vertical-align: middle;\n",
       "    }\n",
       "\n",
       "    .dataframe tbody tr th {\n",
       "        vertical-align: top;\n",
       "    }\n",
       "\n",
       "    .dataframe thead th {\n",
       "        text-align: right;\n",
       "    }\n",
       "</style>\n",
       "<table border=\"1\" class=\"dataframe\">\n",
       "  <thead>\n",
       "    <tr style=\"text-align: right;\">\n",
       "      <th></th>\n",
       "      <th>nome_passageiro</th>\n",
       "      <th>nome_solicitante</th>\n",
       "      <th>cpf_solicitante</th>\n",
       "      <th>km_total</th>\n",
       "      <th>valor_corridas</th>\n",
       "      <th>quantidade_corridas</th>\n",
       "      <th>ano</th>\n",
       "      <th>mes</th>\n",
       "    </tr>\n",
       "  </thead>\n",
       "  <tbody>\n",
       "    <tr>\n",
       "      <th>5399</th>\n",
       "      <td>ANTONIO CARLOS VIEIRA DOS SANTOS</td>\n",
       "      <td>ANTONIO CARLOS VIEIRA DOS SANTOS</td>\n",
       "      <td>***.916.547-**</td>\n",
       "      <td>2234.200</td>\n",
       "      <td>6532.37</td>\n",
       "      <td>58</td>\n",
       "      <td>2021</td>\n",
       "      <td>8</td>\n",
       "    </tr>\n",
       "    <tr>\n",
       "      <th>40630</th>\n",
       "      <td>NOEL CARLOS SERAPHIM RAMOS DA SILVA</td>\n",
       "      <td>NOEL CARLOS SERAPHIM RAMOS DA SILVA</td>\n",
       "      <td>***.423.007-**</td>\n",
       "      <td>2094.323</td>\n",
       "      <td>6189.30</td>\n",
       "      <td>60</td>\n",
       "      <td>2021</td>\n",
       "      <td>9</td>\n",
       "    </tr>\n",
       "    <tr>\n",
       "      <th>28207</th>\n",
       "      <td>JOSINALDO DA SILVA</td>\n",
       "      <td>JOSINALDO DA SILVA</td>\n",
       "      <td>***.424.877-**</td>\n",
       "      <td>2016.755</td>\n",
       "      <td>6064.24</td>\n",
       "      <td>78</td>\n",
       "      <td>2020</td>\n",
       "      <td>4</td>\n",
       "    </tr>\n",
       "    <tr>\n",
       "      <th>5398</th>\n",
       "      <td>ANTONIO CARLOS VIEIRA DOS SANTOS</td>\n",
       "      <td>ANTONIO CARLOS VIEIRA DOS SANTOS</td>\n",
       "      <td>***.916.547-**</td>\n",
       "      <td>1986.711</td>\n",
       "      <td>5838.99</td>\n",
       "      <td>57</td>\n",
       "      <td>2021</td>\n",
       "      <td>7</td>\n",
       "    </tr>\n",
       "    <tr>\n",
       "      <th>5388</th>\n",
       "      <td>ANTONIO CARLOS VIEIRA DOS SANTOS</td>\n",
       "      <td>ANTONIO CARLOS VIEIRA DOS SANTOS</td>\n",
       "      <td>***.916.547-**</td>\n",
       "      <td>1589.124</td>\n",
       "      <td>4693.77</td>\n",
       "      <td>44</td>\n",
       "      <td>2020</td>\n",
       "      <td>9</td>\n",
       "    </tr>\n",
       "    <tr>\n",
       "      <th>26069</th>\n",
       "      <td>JOAO MARCUS OKUMURA</td>\n",
       "      <td>JOAO MARCUS OKUMURA</td>\n",
       "      <td>***.507.801-**</td>\n",
       "      <td>1572.400</td>\n",
       "      <td>4681.64</td>\n",
       "      <td>55</td>\n",
       "      <td>2020</td>\n",
       "      <td>5</td>\n",
       "    </tr>\n",
       "    <tr>\n",
       "      <th>19664</th>\n",
       "      <td>FRANCIVAN DO NASCIMENTO ASSIS</td>\n",
       "      <td>FRANCIVAN DO NASCIMENTO ASSIS</td>\n",
       "      <td>***.313.061-**</td>\n",
       "      <td>1413.710</td>\n",
       "      <td>4583.75</td>\n",
       "      <td>199</td>\n",
       "      <td>2021</td>\n",
       "      <td>8</td>\n",
       "    </tr>\n",
       "    <tr>\n",
       "      <th>5397</th>\n",
       "      <td>ANTONIO CARLOS VIEIRA DOS SANTOS</td>\n",
       "      <td>ANTONIO CARLOS VIEIRA DOS SANTOS</td>\n",
       "      <td>***.916.547-**</td>\n",
       "      <td>1556.040</td>\n",
       "      <td>4577.95</td>\n",
       "      <td>43</td>\n",
       "      <td>2021</td>\n",
       "      <td>6</td>\n",
       "    </tr>\n",
       "    <tr>\n",
       "      <th>26065</th>\n",
       "      <td>JOAO MARCUS OKUMURA</td>\n",
       "      <td>JOAO MARCUS OKUMURA</td>\n",
       "      <td>***.507.801-**</td>\n",
       "      <td>1556.000</td>\n",
       "      <td>4516.17</td>\n",
       "      <td>58</td>\n",
       "      <td>2020</td>\n",
       "      <td>1</td>\n",
       "    </tr>\n",
       "    <tr>\n",
       "      <th>5396</th>\n",
       "      <td>ANTONIO CARLOS VIEIRA DOS SANTOS</td>\n",
       "      <td>ANTONIO CARLOS VIEIRA DOS SANTOS</td>\n",
       "      <td>***.916.547-**</td>\n",
       "      <td>1529.360</td>\n",
       "      <td>4478.78</td>\n",
       "      <td>43</td>\n",
       "      <td>2021</td>\n",
       "      <td>5</td>\n",
       "    </tr>\n",
       "  </tbody>\n",
       "</table>\n",
       "</div>"
      ],
      "text/plain": [
       "                           nome_passageiro  \\\n",
       "5399      ANTONIO CARLOS VIEIRA DOS SANTOS   \n",
       "40630  NOEL CARLOS SERAPHIM RAMOS DA SILVA   \n",
       "28207                   JOSINALDO DA SILVA   \n",
       "5398      ANTONIO CARLOS VIEIRA DOS SANTOS   \n",
       "5388      ANTONIO CARLOS VIEIRA DOS SANTOS   \n",
       "26069                  JOAO MARCUS OKUMURA   \n",
       "19664        FRANCIVAN DO NASCIMENTO ASSIS   \n",
       "5397      ANTONIO CARLOS VIEIRA DOS SANTOS   \n",
       "26065                  JOAO MARCUS OKUMURA   \n",
       "5396      ANTONIO CARLOS VIEIRA DOS SANTOS   \n",
       "\n",
       "                          nome_solicitante cpf_solicitante  km_total  \\\n",
       "5399      ANTONIO CARLOS VIEIRA DOS SANTOS  ***.916.547-**  2234.200   \n",
       "40630  NOEL CARLOS SERAPHIM RAMOS DA SILVA  ***.423.007-**  2094.323   \n",
       "28207                   JOSINALDO DA SILVA  ***.424.877-**  2016.755   \n",
       "5398      ANTONIO CARLOS VIEIRA DOS SANTOS  ***.916.547-**  1986.711   \n",
       "5388      ANTONIO CARLOS VIEIRA DOS SANTOS  ***.916.547-**  1589.124   \n",
       "26069                  JOAO MARCUS OKUMURA  ***.507.801-**  1572.400   \n",
       "19664        FRANCIVAN DO NASCIMENTO ASSIS  ***.313.061-**  1413.710   \n",
       "5397      ANTONIO CARLOS VIEIRA DOS SANTOS  ***.916.547-**  1556.040   \n",
       "26065                  JOAO MARCUS OKUMURA  ***.507.801-**  1556.000   \n",
       "5396      ANTONIO CARLOS VIEIRA DOS SANTOS  ***.916.547-**  1529.360   \n",
       "\n",
       "       valor_corridas  quantidade_corridas   ano  mes  \n",
       "5399          6532.37                   58  2021    8  \n",
       "40630         6189.30                   60  2021    9  \n",
       "28207         6064.24                   78  2020    4  \n",
       "5398          5838.99                   57  2021    7  \n",
       "5388          4693.77                   44  2020    9  \n",
       "26069         4681.64                   55  2020    5  \n",
       "19664         4583.75                  199  2021    8  \n",
       "5397          4577.95                   43  2021    6  \n",
       "26065         4516.17                   58  2020    1  \n",
       "5396          4478.78                   43  2021    5  "
      ]
     },
     "execution_count": 24,
     "metadata": {},
     "output_type": "execute_result"
    }
   ],
   "source": [
    "frames=[]\n",
    "for each in df['valor_corridas'].nlargest(10):\n",
    "    frames.append(df[df['valor_corridas']==each])\n",
    "    qt_corridas_10 = pd.concat(frames)\n",
    "qt_corridas_10"
   ]
  },
  {
   "cell_type": "markdown",
   "id": "0bd34a1c",
   "metadata": {},
   "source": [
    "__Os maiores valores de corridas por ano e seus respectivos solicitantes__\n",
    "____"
   ]
  },
  {
   "cell_type": "code",
   "execution_count": 25,
   "id": "4bcd9e5b",
   "metadata": {},
   "outputs": [
    {
     "data": {
      "text/plain": [
       "ano\n",
       "2019    3889.78\n",
       "2020    6064.24\n",
       "2021    6532.37\n",
       "Name: valor_corridas, dtype: float64"
      ]
     },
     "execution_count": 25,
     "metadata": {},
     "output_type": "execute_result"
    }
   ],
   "source": [
    "df.groupby('ano')['valor_corridas'].max()"
   ]
  },
  {
   "cell_type": "code",
   "execution_count": 26,
   "id": "906bb0e9",
   "metadata": {},
   "outputs": [
    {
     "data": {
      "text/html": [
       "<div>\n",
       "<style scoped>\n",
       "    .dataframe tbody tr th:only-of-type {\n",
       "        vertical-align: middle;\n",
       "    }\n",
       "\n",
       "    .dataframe tbody tr th {\n",
       "        vertical-align: top;\n",
       "    }\n",
       "\n",
       "    .dataframe thead th {\n",
       "        text-align: right;\n",
       "    }\n",
       "</style>\n",
       "<table border=\"1\" class=\"dataframe\">\n",
       "  <thead>\n",
       "    <tr style=\"text-align: right;\">\n",
       "      <th></th>\n",
       "      <th>nome_passageiro</th>\n",
       "      <th>nome_solicitante</th>\n",
       "      <th>cpf_solicitante</th>\n",
       "      <th>km_total</th>\n",
       "      <th>valor_corridas</th>\n",
       "      <th>quantidade_corridas</th>\n",
       "      <th>ano</th>\n",
       "      <th>mes</th>\n",
       "    </tr>\n",
       "  </thead>\n",
       "  <tbody>\n",
       "    <tr>\n",
       "      <th>26063</th>\n",
       "      <td>JOAO MARCUS OKUMURA</td>\n",
       "      <td>JOAO MARCUS OKUMURA</td>\n",
       "      <td>***.507.801-**</td>\n",
       "      <td>1339.600</td>\n",
       "      <td>3889.78</td>\n",
       "      <td>42</td>\n",
       "      <td>2019</td>\n",
       "      <td>11</td>\n",
       "    </tr>\n",
       "    <tr>\n",
       "      <th>28207</th>\n",
       "      <td>JOSINALDO DA SILVA</td>\n",
       "      <td>JOSINALDO DA SILVA</td>\n",
       "      <td>***.424.877-**</td>\n",
       "      <td>2016.755</td>\n",
       "      <td>6064.24</td>\n",
       "      <td>78</td>\n",
       "      <td>2020</td>\n",
       "      <td>4</td>\n",
       "    </tr>\n",
       "    <tr>\n",
       "      <th>5399</th>\n",
       "      <td>ANTONIO CARLOS VIEIRA DOS SANTOS</td>\n",
       "      <td>ANTONIO CARLOS VIEIRA DOS SANTOS</td>\n",
       "      <td>***.916.547-**</td>\n",
       "      <td>2234.200</td>\n",
       "      <td>6532.37</td>\n",
       "      <td>58</td>\n",
       "      <td>2021</td>\n",
       "      <td>8</td>\n",
       "    </tr>\n",
       "  </tbody>\n",
       "</table>\n",
       "</div>"
      ],
      "text/plain": [
       "                        nome_passageiro                  nome_solicitante  \\\n",
       "26063               JOAO MARCUS OKUMURA               JOAO MARCUS OKUMURA   \n",
       "28207                JOSINALDO DA SILVA                JOSINALDO DA SILVA   \n",
       "5399   ANTONIO CARLOS VIEIRA DOS SANTOS  ANTONIO CARLOS VIEIRA DOS SANTOS   \n",
       "\n",
       "      cpf_solicitante  km_total  valor_corridas  quantidade_corridas   ano  \\\n",
       "26063  ***.507.801-**  1339.600         3889.78                   42  2019   \n",
       "28207  ***.424.877-**  2016.755         6064.24                   78  2020   \n",
       "5399   ***.916.547-**  2234.200         6532.37                   58  2021   \n",
       "\n",
       "       mes  \n",
       "26063   11  \n",
       "28207    4  \n",
       "5399     8  "
      ]
     },
     "execution_count": 26,
     "metadata": {},
     "output_type": "execute_result"
    }
   ],
   "source": [
    "frames=[]\n",
    "for each in df.groupby('ano')['valor_corridas'].max():\n",
    "    frames.append(df[df['valor_corridas']==each])\n",
    "    mv = pd.concat(frames)\n",
    "mv"
   ]
  },
  {
   "cell_type": "code",
   "execution_count": 27,
   "id": "cab11e31",
   "metadata": {},
   "outputs": [
    {
     "data": {
      "image/png": "[encoded data removed]",
      "text/plain": [
       "<Figure size 432x288 with 1 Axes>"
      ]
     },
     "metadata": {
      "needs_background": "light"
     },
     "output_type": "display_data"
    }
   ],
   "source": [
    "df[df['cpf_solicitante']=='***.507.801-**'].groupby(['ano','mes']).sum()['valor_corridas'].plot(kind='bar')\n",
    "plt.ylabel('Valor Corridas')\n",
    "plt.xlabel('Ano, Mês')\n",
    "plt.title('JOAO MARCUS OKUMURA')\n",
    "plt.tight_layout()"
   ]
  },
  {
   "cell_type": "code",
   "execution_count": 28,
   "id": "638e0a67",
   "metadata": {},
   "outputs": [
    {
     "data": {
      "image/png": "[encoded data removed]",
      "text/plain": [
       "<Figure size 432x288 with 1 Axes>"
      ]
     },
     "metadata": {
      "needs_background": "light"
     },
     "output_type": "display_data"
    }
   ],
   "source": [
    "df[df['cpf_solicitante']=='***.424.877-**'].groupby(['ano','mes']).sum()['valor_corridas'].plot(kind='bar')\n",
    "plt.ylabel('Valor Corridas')\n",
    "plt.xlabel('Ano, Mês')\n",
    "plt.title('JOSINALDO DA SILVA')\n",
    "plt.tight_layout()"
   ]
  },
  {
   "cell_type": "code",
   "execution_count": 29,
   "id": "7c1e7233",
   "metadata": {},
   "outputs": [
    {
     "data": {
      "image/png": "[encoded data removed]",
      "text/plain": [
       "<Figure size 432x288 with 1 Axes>"
      ]
     },
     "metadata": {
      "needs_background": "light"
     },
     "output_type": "display_data"
    }
   ],
   "source": [
    "df[df['cpf_solicitante']=='***.916.547-**'].groupby(['ano','mes']).sum()['valor_corridas'].plot(kind='bar')\n",
    "plt.ylabel('Valor Corridas')\n",
    "plt.xlabel('Ano, Mês')\n",
    "plt.title('ANTONIO CARLOS VIEIRA DOS SANTOS')\n",
    "plt.tight_layout()"
   ]
  },
  {
   "cell_type": "markdown",
   "id": "1c726c0c",
   "metadata": {},
   "source": [
    "\n",
    "___\n",
    "__Total de km, valor e quantidade de corridas por ano e mes__"
   ]
  },
  {
   "cell_type": "code",
   "execution_count": 30,
   "id": "cf80ca21",
   "metadata": {},
   "outputs": [
    {
     "data": {
      "text/html": [
       "<div>\n",
       "<style scoped>\n",
       "    .dataframe tbody tr th:only-of-type {\n",
       "        vertical-align: middle;\n",
       "    }\n",
       "\n",
       "    .dataframe tbody tr th {\n",
       "        vertical-align: top;\n",
       "    }\n",
       "\n",
       "    .dataframe thead th {\n",
       "        text-align: right;\n",
       "    }\n",
       "</style>\n",
       "<table border=\"1\" class=\"dataframe\">\n",
       "  <thead>\n",
       "    <tr style=\"text-align: right;\">\n",
       "      <th></th>\n",
       "      <th></th>\n",
       "      <th>km_total</th>\n",
       "      <th>valor_corridas</th>\n",
       "      <th>quantidade_corridas</th>\n",
       "    </tr>\n",
       "    <tr>\n",
       "      <th>ano</th>\n",
       "      <th>mes</th>\n",
       "      <th></th>\n",
       "      <th></th>\n",
       "      <th></th>\n",
       "    </tr>\n",
       "  </thead>\n",
       "  <tbody>\n",
       "    <tr>\n",
       "      <th rowspan=\"4\" valign=\"top\">2019</th>\n",
       "      <th>9</th>\n",
       "      <td>12350.620</td>\n",
       "      <td>36496.760</td>\n",
       "      <td>1940</td>\n",
       "    </tr>\n",
       "    <tr>\n",
       "      <th>10</th>\n",
       "      <td>156470.830</td>\n",
       "      <td>464202.220</td>\n",
       "      <td>26505</td>\n",
       "    </tr>\n",
       "    <tr>\n",
       "      <th>11</th>\n",
       "      <td>146553.548</td>\n",
       "      <td>429727.610</td>\n",
       "      <td>23808</td>\n",
       "    </tr>\n",
       "    <tr>\n",
       "      <th>12</th>\n",
       "      <td>119127.100</td>\n",
       "      <td>353833.830</td>\n",
       "      <td>19155</td>\n",
       "    </tr>\n",
       "    <tr>\n",
       "      <th rowspan=\"12\" valign=\"top\">2020</th>\n",
       "      <th>1</th>\n",
       "      <td>112984.852</td>\n",
       "      <td>335348.560</td>\n",
       "      <td>18100</td>\n",
       "    </tr>\n",
       "    <tr>\n",
       "      <th>2</th>\n",
       "      <td>120354.078</td>\n",
       "      <td>357846.670</td>\n",
       "      <td>19990</td>\n",
       "    </tr>\n",
       "    <tr>\n",
       "      <th>3</th>\n",
       "      <td>111480.784</td>\n",
       "      <td>330099.705</td>\n",
       "      <td>16234</td>\n",
       "    </tr>\n",
       "    <tr>\n",
       "      <th>4</th>\n",
       "      <td>36488.238</td>\n",
       "      <td>107109.110</td>\n",
       "      <td>3282</td>\n",
       "    </tr>\n",
       "    <tr>\n",
       "      <th>5</th>\n",
       "      <td>42188.640</td>\n",
       "      <td>123996.110</td>\n",
       "      <td>4166</td>\n",
       "    </tr>\n",
       "    <tr>\n",
       "      <th>6</th>\n",
       "      <td>49778.626</td>\n",
       "      <td>149109.160</td>\n",
       "      <td>4983</td>\n",
       "    </tr>\n",
       "    <tr>\n",
       "      <th>7</th>\n",
       "      <td>51393.448</td>\n",
       "      <td>154792.420</td>\n",
       "      <td>5330</td>\n",
       "    </tr>\n",
       "    <tr>\n",
       "      <th>8</th>\n",
       "      <td>64214.279</td>\n",
       "      <td>192826.440</td>\n",
       "      <td>5940</td>\n",
       "    </tr>\n",
       "    <tr>\n",
       "      <th>9</th>\n",
       "      <td>67296.521</td>\n",
       "      <td>201458.150</td>\n",
       "      <td>6441</td>\n",
       "    </tr>\n",
       "    <tr>\n",
       "      <th>10</th>\n",
       "      <td>69763.668</td>\n",
       "      <td>208980.280</td>\n",
       "      <td>6758</td>\n",
       "    </tr>\n",
       "    <tr>\n",
       "      <th>11</th>\n",
       "      <td>81390.017</td>\n",
       "      <td>225977.210</td>\n",
       "      <td>7724</td>\n",
       "    </tr>\n",
       "    <tr>\n",
       "      <th>12</th>\n",
       "      <td>80117.604</td>\n",
       "      <td>239178.450</td>\n",
       "      <td>8015</td>\n",
       "    </tr>\n",
       "    <tr>\n",
       "      <th rowspan=\"12\" valign=\"top\">2021</th>\n",
       "      <th>1</th>\n",
       "      <td>60753.725</td>\n",
       "      <td>180178.630</td>\n",
       "      <td>6828</td>\n",
       "    </tr>\n",
       "    <tr>\n",
       "      <th>2</th>\n",
       "      <td>70470.162</td>\n",
       "      <td>210910.790</td>\n",
       "      <td>7270</td>\n",
       "    </tr>\n",
       "    <tr>\n",
       "      <th>3</th>\n",
       "      <td>75133.367</td>\n",
       "      <td>237963.520</td>\n",
       "      <td>7446</td>\n",
       "    </tr>\n",
       "    <tr>\n",
       "      <th>4</th>\n",
       "      <td>75522.684</td>\n",
       "      <td>222858.270</td>\n",
       "      <td>6706</td>\n",
       "    </tr>\n",
       "    <tr>\n",
       "      <th>5</th>\n",
       "      <td>77122.576</td>\n",
       "      <td>232079.910</td>\n",
       "      <td>7500</td>\n",
       "    </tr>\n",
       "    <tr>\n",
       "      <th>6</th>\n",
       "      <td>78765.807</td>\n",
       "      <td>247132.860</td>\n",
       "      <td>7827</td>\n",
       "    </tr>\n",
       "    <tr>\n",
       "      <th>7</th>\n",
       "      <td>75671.234</td>\n",
       "      <td>237060.060</td>\n",
       "      <td>7799</td>\n",
       "    </tr>\n",
       "    <tr>\n",
       "      <th>8</th>\n",
       "      <td>99054.011</td>\n",
       "      <td>310691.750</td>\n",
       "      <td>9768</td>\n",
       "    </tr>\n",
       "    <tr>\n",
       "      <th>9</th>\n",
       "      <td>99137.002</td>\n",
       "      <td>310530.780</td>\n",
       "      <td>9456</td>\n",
       "    </tr>\n",
       "    <tr>\n",
       "      <th>10</th>\n",
       "      <td>94204.143</td>\n",
       "      <td>294687.350</td>\n",
       "      <td>9353</td>\n",
       "    </tr>\n",
       "    <tr>\n",
       "      <th>11</th>\n",
       "      <td>80804.481</td>\n",
       "      <td>254053.530</td>\n",
       "      <td>9581</td>\n",
       "    </tr>\n",
       "    <tr>\n",
       "      <th>12</th>\n",
       "      <td>11949.417</td>\n",
       "      <td>38160.760</td>\n",
       "      <td>1661</td>\n",
       "    </tr>\n",
       "  </tbody>\n",
       "</table>\n",
       "</div>"
      ],
      "text/plain": [
       "            km_total  valor_corridas  quantidade_corridas\n",
       "ano  mes                                                 \n",
       "2019 9     12350.620       36496.760                 1940\n",
       "     10   156470.830      464202.220                26505\n",
       "     11   146553.548      429727.610                23808\n",
       "     12   119127.100      353833.830                19155\n",
       "2020 1    112984.852      335348.560                18100\n",
       "     2    120354.078      357846.670                19990\n",
       "     3    111480.784      330099.705                16234\n",
       "     4     36488.238      107109.110                 3282\n",
       "     5     42188.640      123996.110                 4166\n",
       "     6     49778.626      149109.160                 4983\n",
       "     7     51393.448      154792.420                 5330\n",
       "     8     64214.279      192826.440                 5940\n",
       "     9     67296.521      201458.150                 6441\n",
       "     10    69763.668      208980.280                 6758\n",
       "     11    81390.017      225977.210                 7724\n",
       "     12    80117.604      239178.450                 8015\n",
       "2021 1     60753.725      180178.630                 6828\n",
       "     2     70470.162      210910.790                 7270\n",
       "     3     75133.367      237963.520                 7446\n",
       "     4     75522.684      222858.270                 6706\n",
       "     5     77122.576      232079.910                 7500\n",
       "     6     78765.807      247132.860                 7827\n",
       "     7     75671.234      237060.060                 7799\n",
       "     8     99054.011      310691.750                 9768\n",
       "     9     99137.002      310530.780                 9456\n",
       "     10    94204.143      294687.350                 9353\n",
       "     11    80804.481      254053.530                 9581\n",
       "     12    11949.417       38160.760                 1661"
      ]
     },
     "execution_count": 30,
     "metadata": {},
     "output_type": "execute_result"
    }
   ],
   "source": [
    "df_ano_mes = df.groupby(['ano','mes']).sum()\n",
    "df_ano_mes "
   ]
  },
  {
   "cell_type": "code",
   "execution_count": 31,
   "id": "5d7c9095",
   "metadata": {},
   "outputs": [
    {
     "data": {
      "text/plain": [
       "<Figure size 720x288 with 0 Axes>"
      ]
     },
     "metadata": {},
     "output_type": "display_data"
    },
    {
     "data": {
      "image/png": "[encoded data removed]",
      "text/plain": [
       "<Figure size 432x288 with 1 Axes>"
      ]
     },
     "metadata": {
      "needs_background": "light"
     },
     "output_type": "display_data"
    }
   ],
   "source": [
    "plt.figure(figsize=(10,4))\n",
    "df.groupby(['ano','mes']).sum()[['km_total']].plot()\n",
    "plt.ylabel('Total Km')\n",
    "plt.xlabel('Ano, Mês')\n",
    "plt.tight_layout()"
   ]
  },
  {
   "cell_type": "code",
   "execution_count": 32,
   "id": "b3cde8b2",
   "metadata": {},
   "outputs": [
    {
     "data": {
      "image/png": "[encoded data removed]",
      "text/plain": [
       "<Figure size 432x288 with 1 Axes>"
      ]
     },
     "metadata": {
      "needs_background": "light"
     },
     "output_type": "display_data"
    }
   ],
   "source": [
    "df.groupby(['ano','mes']).sum()[['valor_corridas']].plot()\n",
    "plt.ylabel('Valor Corridas')\n",
    "plt.xlabel('Ano, Mês')\n",
    "plt.tight_layout()"
   ]
  },
  {
   "cell_type": "code",
   "execution_count": 33,
   "id": "fcceb896",
   "metadata": {},
   "outputs": [
    {
     "data": {
      "image/png": "[encoded data removed]",
      "text/plain": [
       "<Figure size 432x288 with 1 Axes>"
      ]
     },
     "metadata": {
      "needs_background": "light"
     },
     "output_type": "display_data"
    }
   ],
   "source": [
    "df.groupby(['ano','mes']).sum()[['quantidade_corridas']].plot()\n",
    "plt.ylabel('Qtd Corridas')\n",
    "plt.xlabel('Ano, Mês')\n",
    "plt.tight_layout()"
   ]
  },
  {
   "cell_type": "code",
   "execution_count": 34,
   "id": "e0885f26",
   "metadata": {},
   "outputs": [
    {
     "data": {
      "image/png": "[encoded data removed]",
      "text/plain": [
       "<Figure size 432x288 with 1 Axes>"
      ]
     },
     "metadata": {
      "needs_background": "light"
     },
     "output_type": "display_data"
    }
   ],
   "source": [
    "df.groupby(['ano']).sum()[['valor_corridas']].plot(kind='bar')\n",
    "plt.ylabel('Valor Corridas')\n",
    "plt.xlabel('Ano')\n",
    "plt.tight_layout()"
   ]
  },
  {
   "cell_type": "code",
   "execution_count": 35,
   "id": "4f9212ac",
   "metadata": {},
   "outputs": [
    {
     "data": {
      "image/png": "[encoded data removed]",
      "text/plain": [
       "<Figure size 432x288 with 1 Axes>"
      ]
     },
     "metadata": {
      "needs_background": "light"
     },
     "output_type": "display_data"
    }
   ],
   "source": [
    "df.groupby(['mes']).sum()[['valor_corridas']].plot(kind='bar')\n",
    "plt.ylabel('Valor Corridas')\n",
    "plt.xlabel('Mês')\n",
    "plt.tight_layout()"
   ]
  },
  {
   "cell_type": "code",
   "execution_count": 36,
   "id": "34e31af8",
   "metadata": {},
   "outputs": [
    {
     "data": {
      "text/plain": [
       "<Figure size 720x288 with 0 Axes>"
      ]
     },
     "metadata": {},
     "output_type": "display_data"
    },
    {
     "data": {
      "image/png": "[encoded data removed]",
      "text/plain": [
       "<Figure size 432x288 with 1 Axes>"
      ]
     },
     "metadata": {
      "needs_background": "light"
     },
     "output_type": "display_data"
    }
   ],
   "source": [
    "plt.figure(figsize=(10,4))\n",
    "df.groupby(['ano']).sum()[['quantidade_corridas']].plot(kind='bar')\n",
    "plt.ylabel('Qtd Corridas')\n",
    "plt.xlabel('Mês, Ano')\n",
    "plt.tight_layout()"
   ]
  },
  {
   "cell_type": "code",
   "execution_count": 37,
   "id": "1ee7af74",
   "metadata": {},
   "outputs": [
    {
     "data": {
      "image/png": "[encoded data removed]",
      "text/plain": [
       "<Figure size 432x288 with 1 Axes>"
      ]
     },
     "metadata": {
      "needs_background": "light"
     },
     "output_type": "display_data"
    }
   ],
   "source": [
    "df.groupby(['mes']).sum()[['quantidade_corridas']].plot(kind='bar')\n",
    "plt.ylabel('Qtd Corridas')\n",
    "plt.xlabel('Mês')\n",
    "plt.tight_layout()"
   ]
  },
  {
   "cell_type": "code",
   "execution_count": 38,
   "id": "0ef3d6e2",
   "metadata": {},
   "outputs": [],
   "source": [
    "df_ano_mes.reset_index(inplace=True)"
   ]
  },
  {
   "cell_type": "code",
   "execution_count": 39,
   "id": "688448ab",
   "metadata": {},
   "outputs": [
    {
     "data": {
      "text/plain": [
       "<AxesSubplot:xlabel='mes', ylabel='valor_corridas'>"
      ]
     },
     "execution_count": 39,
     "metadata": {},
     "output_type": "execute_result"
    },
    {
     "data": {
      "image/png": "[encoded data removed]",
      "text/plain": [
       "<Figure size 864x288 with 1 Axes>"
      ]
     },
     "metadata": {
      "needs_background": "light"
     },
     "output_type": "display_data"
    }
   ],
   "source": [
    "plt.figure(figsize=(12,4))\n",
    "sns.barplot(x='mes',y='valor_corridas',data=df_ano_mes,hue='ano',palette='Set2')"
   ]
  },
  {
   "cell_type": "code",
   "execution_count": 40,
   "id": "dd69439b",
   "metadata": {},
   "outputs": [
    {
     "data": {
      "text/plain": [
       "<seaborn.axisgrid.FacetGrid at 0x7f94bd8b24c0>"
      ]
     },
     "execution_count": 40,
     "metadata": {},
     "output_type": "execute_result"
    },
    {
     "data": {
      "image/png": "[encoded data removed]",
      "text/plain": [
       "<Figure size 1080x360 with 3 Axes>"
      ]
     },
     "metadata": {
      "needs_background": "light"
     },
     "output_type": "display_data"
    }
   ],
   "source": [
    "sns.lmplot(x='mes',y='valor_corridas',data=df_ano_mes,col='ano')"
   ]
  },
  {
   "cell_type": "code",
   "execution_count": 41,
   "id": "bee2c0d1",
   "metadata": {},
   "outputs": [],
   "source": [
    "gasto_corridas = df.groupby(['ano','mes']).sum()['valor_corridas'].unstack()"
   ]
  },
  {
   "cell_type": "code",
   "execution_count": 42,
   "id": "d03cc6b8",
   "metadata": {},
   "outputs": [
    {
     "data": {
      "text/plain": [
       "<AxesSubplot:xlabel='mes', ylabel='ano'>"
      ]
     },
     "execution_count": 42,
     "metadata": {},
     "output_type": "execute_result"
    },
    {
     "data": {
      "image/png": "[encoded data removed]",
      "text/plain": [
       "<Figure size 720x432 with 2 Axes>"
      ]
     },
     "metadata": {
      "needs_background": "light"
     },
     "output_type": "display_data"
    }
   ],
   "source": [
    "plt.figure(figsize=(10,6))\n",
    "sns.heatmap(gasto_corridas,cmap='coolwarm')"
   ]
  }
 ],
 "metadata": {
  "kernelspec": {
   "display_name": "Python 3",
   "language": "python",
   "name": "python3"
  },
  "language_info": {
   "codemirror_mode": {
    "name": "ipython",
    "version": 3
   },
   "file_extension": ".py",
   "mimetype": "text/x-python",
   "name": "python",
   "nbconvert_exporter": "python",
   "pygments_lexer": "ipython3",
   "version": "3.9.4"
  }
 },
 "nbformat": 4,
 "nbformat_minor": 5
}
